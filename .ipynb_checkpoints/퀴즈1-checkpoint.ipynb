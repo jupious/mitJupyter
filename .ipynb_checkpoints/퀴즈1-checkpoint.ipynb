{
 "cells": [
  {
   "cell_type": "code",
   "execution_count": 1,
   "metadata": {},
   "outputs": [
    {
     "name": "stdout",
     "output_type": "stream",
     "text": [
      "305천국 가게오픈\n",
      "메뉴선택\n",
      "1. 메뉴입력\n",
      "2. 메뉴확인\n",
      "3. 주문\n",
      "원하는 메뉴를 입력해주세요:1\n",
      "메뉴를 입력해 주세요(종료는 q):김밥\n",
      "가격을 입력해 주세요:3000\n",
      "메뉴를 입력해 주세요(종료는 q):라면\n",
      "가격을 입력해 주세요:4500\n",
      "메뉴를 입력해 주세요(종료는 q):돈까스\n",
      "가격을 입력해 주세요:6000\n",
      "메뉴를 입력해 주세요(종료는 q):떡볶이\n",
      "가격을 입력해 주세요:3000\n",
      "메뉴를 입력해 주세요(종료는 q):q\n",
      "메뉴선택\n",
      "1. 메뉴입력\n",
      "2. 메뉴확인\n",
      "3. 주문\n",
      "원하는 메뉴를 입력해주세요:2\n",
      "김밥, 라면, 돈까스, 떡볶이\n",
      "메뉴선택\n",
      "1. 메뉴입력\n",
      "2. 메뉴확인\n",
      "3. 주문\n",
      "원하는 메뉴를 입력해주세요:3\n",
      "(원하는 주문을 ,로 구분해서 넣어주세요돈까스,떡볶이,라면\n",
      "주문금액은 13500 원 입니다.끝\n"
     ]
    },
    {
     "ename": "KeyboardInterrupt",
     "evalue": "Interrupted by user",
     "output_type": "error",
     "traceback": [
      "\u001b[1;31m---------------------------------------------------------------------------\u001b[0m",
      "\u001b[1;31mKeyboardInterrupt\u001b[0m                         Traceback (most recent call last)",
      "Cell \u001b[1;32mIn[1], line 18\u001b[0m\n\u001b[0;32m     16\u001b[0m manage \u001b[38;5;241m=\u001b[39m MenuManage()\n\u001b[0;32m     17\u001b[0m \u001b[38;5;28;01mwhile\u001b[39;00m \u001b[38;5;241m1\u001b[39m:\n\u001b[1;32m---> 18\u001b[0m     select \u001b[38;5;241m=\u001b[39m \u001b[38;5;28minput\u001b[39m(\u001b[38;5;124m\"\u001b[39m\u001b[38;5;124m메뉴선택\u001b[39m\u001b[38;5;130;01m\\n\u001b[39;00m\u001b[38;5;124m1. 메뉴입력\u001b[39m\u001b[38;5;130;01m\\n\u001b[39;00m\u001b[38;5;124m2. 메뉴확인\u001b[39m\u001b[38;5;130;01m\\n\u001b[39;00m\u001b[38;5;124m3. 주문\u001b[39m\u001b[38;5;130;01m\\n\u001b[39;00m\u001b[38;5;124m원하는 메뉴를 입력해주세요:\u001b[39m\u001b[38;5;124m\"\u001b[39m)\n\u001b[0;32m     19\u001b[0m     \u001b[38;5;28;01mif\u001b[39;00m select \u001b[38;5;241m==\u001b[39m \u001b[38;5;124m'\u001b[39m\u001b[38;5;124m1\u001b[39m\u001b[38;5;124m'\u001b[39m :\n\u001b[0;32m     20\u001b[0m         \u001b[38;5;28;01mwhile\u001b[39;00m \u001b[38;5;241m1\u001b[39m:\n",
      "File \u001b[1;32m~\\anaconda3\\Lib\\site-packages\\ipykernel\\kernelbase.py:1202\u001b[0m, in \u001b[0;36mKernel.raw_input\u001b[1;34m(self, prompt)\u001b[0m\n\u001b[0;32m   1200\u001b[0m     msg \u001b[38;5;241m=\u001b[39m \u001b[38;5;124m\"\u001b[39m\u001b[38;5;124mraw_input was called, but this frontend does not support input requests.\u001b[39m\u001b[38;5;124m\"\u001b[39m\n\u001b[0;32m   1201\u001b[0m     \u001b[38;5;28;01mraise\u001b[39;00m StdinNotImplementedError(msg)\n\u001b[1;32m-> 1202\u001b[0m \u001b[38;5;28;01mreturn\u001b[39;00m \u001b[38;5;28mself\u001b[39m\u001b[38;5;241m.\u001b[39m_input_request(\n\u001b[0;32m   1203\u001b[0m     \u001b[38;5;28mstr\u001b[39m(prompt),\n\u001b[0;32m   1204\u001b[0m     \u001b[38;5;28mself\u001b[39m\u001b[38;5;241m.\u001b[39m_parent_ident[\u001b[38;5;124m\"\u001b[39m\u001b[38;5;124mshell\u001b[39m\u001b[38;5;124m\"\u001b[39m],\n\u001b[0;32m   1205\u001b[0m     \u001b[38;5;28mself\u001b[39m\u001b[38;5;241m.\u001b[39mget_parent(\u001b[38;5;124m\"\u001b[39m\u001b[38;5;124mshell\u001b[39m\u001b[38;5;124m\"\u001b[39m),\n\u001b[0;32m   1206\u001b[0m     password\u001b[38;5;241m=\u001b[39m\u001b[38;5;28;01mFalse\u001b[39;00m,\n\u001b[0;32m   1207\u001b[0m )\n",
      "File \u001b[1;32m~\\anaconda3\\Lib\\site-packages\\ipykernel\\kernelbase.py:1245\u001b[0m, in \u001b[0;36mKernel._input_request\u001b[1;34m(self, prompt, ident, parent, password)\u001b[0m\n\u001b[0;32m   1242\u001b[0m \u001b[38;5;28;01mexcept\u001b[39;00m \u001b[38;5;167;01mKeyboardInterrupt\u001b[39;00m:\n\u001b[0;32m   1243\u001b[0m     \u001b[38;5;66;03m# re-raise KeyboardInterrupt, to truncate traceback\u001b[39;00m\n\u001b[0;32m   1244\u001b[0m     msg \u001b[38;5;241m=\u001b[39m \u001b[38;5;124m\"\u001b[39m\u001b[38;5;124mInterrupted by user\u001b[39m\u001b[38;5;124m\"\u001b[39m\n\u001b[1;32m-> 1245\u001b[0m     \u001b[38;5;28;01mraise\u001b[39;00m \u001b[38;5;167;01mKeyboardInterrupt\u001b[39;00m(msg) \u001b[38;5;28;01mfrom\u001b[39;00m \u001b[38;5;28;01mNone\u001b[39;00m\n\u001b[0;32m   1246\u001b[0m \u001b[38;5;28;01mexcept\u001b[39;00m \u001b[38;5;167;01mException\u001b[39;00m:\n\u001b[0;32m   1247\u001b[0m     \u001b[38;5;28mself\u001b[39m\u001b[38;5;241m.\u001b[39mlog\u001b[38;5;241m.\u001b[39mwarning(\u001b[38;5;124m\"\u001b[39m\u001b[38;5;124mInvalid Message:\u001b[39m\u001b[38;5;124m\"\u001b[39m, exc_info\u001b[38;5;241m=\u001b[39m\u001b[38;5;28;01mTrue\u001b[39;00m)\n",
      "\u001b[1;31mKeyboardInterrupt\u001b[0m: Interrupted by user"
     ]
    }
   ],
   "source": [
    "class MenuManage:\n",
    "    def __init__(self):\n",
    "        self.menu_dict = {}\n",
    "    def add_menu(self, name, price):\n",
    "        self.menu_dict[name] = price\n",
    "    def order(self, menus):\n",
    "        allprice = 0\n",
    "        for m in menus:\n",
    "            allprice += self.menu_dict[m]\n",
    "        print('주문금액은',allprice,'원 입니다.끝')\n",
    "    def __str__(self):\n",
    "        return \", \".join(self.menu_dict)\n",
    "    \n",
    "\n",
    "print(\"305천국 가게오픈\")\n",
    "manage = MenuManage()\n",
    "while 1:\n",
    "    select = input(\"메뉴선택\\n1. 메뉴입력\\n2. 메뉴확인\\n3. 주문\\n원하는 메뉴를 입력해주세요:\")\n",
    "    if select == '1' :\n",
    "        while 1:\n",
    "            name = input(\"메뉴를 입력해 주세요(종료는 q):\")\n",
    "            if name == 'q':\n",
    "                break\n",
    "            price = input(\"가격을 입력해 주세요:\")\n",
    "            manage.add_menu(name, int(price))\n",
    "    elif select == '2':\n",
    "        print(manage)\n",
    "    elif select == '3':\n",
    "        \n",
    "        menus = input(\"(원하는 주문을 ,로 구분해서 넣어주세요\")\n",
    "        manage.order(menus.split(\",\"))\n",
    "\n"
   ]
  }
 ],
 "metadata": {
  "kernelspec": {
   "display_name": "Python 3 (ipykernel)",
   "language": "python",
   "name": "python3"
  },
  "language_info": {
   "codemirror_mode": {
    "name": "ipython",
    "version": 3
   },
   "file_extension": ".py",
   "mimetype": "text/x-python",
   "name": "python",
   "nbconvert_exporter": "python",
   "pygments_lexer": "ipython3",
   "version": "3.11.5"
  }
 },
 "nbformat": 4,
 "nbformat_minor": 2
}
