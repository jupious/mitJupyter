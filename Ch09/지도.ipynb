{
 "cells": [
  {
   "cell_type": "code",
   "execution_count": 102,
   "metadata": {},
   "outputs": [],
   "source": [
    "#필요 라이브러리 로딩\n",
    "import folium\n",
    "\n",
    "#지오맵 객체생성(처음 위치, 초기 확대값)\n",
    "m = folium.Map(location=[35.56431, 129.3044], zoom_start=15)\n",
    "\n",
    "#마커그려서 넣어주기 준비\n",
    "from folium.plugins import  MarkerCluster\n",
    "m_cluster = MarkerCluster().add_to(m)\n",
    "#마커 셋팅\n",
    "folium.Marker(location=[35.56431, 129.3044],popup=('테스트'),icon=folium.Icon(color='red',icon='star')).add_to(m_cluster)\n",
    "\n",
    "m.save('testmap.html')"
   ]
  },
  {
   "cell_type": "code",
   "execution_count": 137,
   "metadata": {},
   "outputs": [],
   "source": [
    "import pandas as pd\n",
    "star_data = pd.read_csv('./star_data.csv')\n",
    "\n",
    "star_map = folium.Map(location=[37.2458757281495,127.051351328501],zoom_start=20)\n",
    "star_cluster = MarkerCluster().add_to(star_map)\n",
    "for i in range(len(star_data)):\n",
    "    y = star_data['_Y'][i]\n",
    "    x = star_data['_X'][i]\n",
    "    store_name = star_data['field1'][i]\n",
    "    folium.Marker(location=[y,x],popup=(store_name),icon=folium.Icon(color='green',icon='star')).add_to(star_cluster)\n",
    "\n",
    "star_map.save('starmap.html')"
   ]
  }
 ],
 "metadata": {
  "kernelspec": {
   "display_name": "Python 3 (ipykernel)",
   "language": "python",
   "name": "python3"
  },
  "language_info": {
   "codemirror_mode": {
    "name": "ipython",
    "version": 3
   },
   "file_extension": ".py",
   "mimetype": "text/x-python",
   "name": "python",
   "nbconvert_exporter": "python",
   "pygments_lexer": "ipython3",
   "version": "3.11.5"
  }
 },
 "nbformat": 4,
 "nbformat_minor": 2
}
