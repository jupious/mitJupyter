{
 "cells": [
  {
   "cell_type": "code",
   "execution_count": 4,
   "metadata": {},
   "outputs": [
    {
     "name": "stderr",
     "output_type": "stream",
     "text": [
      "C:\\Users\\DongGyu\\anaconda3\\Lib\\site-packages\\sklearn\\feature_extraction\\text.py:528: UserWarning: The parameter 'token_pattern' will not be used since 'tokenizer' is not None'\n",
      "  warnings.warn(\n"
     ]
    },
    {
     "name": "stdout",
     "output_type": "stream",
     "text": [
      "시간이 더럽게 오래걸림\n"
     ]
    },
    {
     "name": "stderr",
     "output_type": "stream",
     "text": [
      "C:\\Users\\DongGyu\\anaconda3\\Lib\\site-packages\\sklearn\\utils\\validation.py:605: FutureWarning: is_sparse is deprecated and will be removed in a future version. Check `isinstance(dtype, pd.SparseDtype)` instead.\n",
      "  if is_sparse(pd_dtype):\n",
      "C:\\Users\\DongGyu\\anaconda3\\Lib\\site-packages\\sklearn\\utils\\validation.py:614: FutureWarning: is_sparse is deprecated and will be removed in a future version. Check `isinstance(dtype, pd.SparseDtype)` instead.\n",
      "  if is_sparse(pd_dtype) or not is_extension_array_dtype(pd_dtype):\n"
     ]
    },
    {
     "ename": "FileNotFoundError",
     "evalue": "[Errno 2] No such file or directory: '.리뷰모델.pickle'",
     "output_type": "error",
     "traceback": [
      "\u001b[1;31m---------------------------------------------------------------------------\u001b[0m",
      "\u001b[1;31mFileNotFoundError\u001b[0m                         Traceback (most recent call last)",
      "\u001b[1;32mc:\\dev\\jupyter_workspace\\Ch13\\모델링.ipynb 셀 1\u001b[0m line \u001b[0;36m4\n\u001b[0;32m     <a href='vscode-notebook-cell:/c%3A/dev/jupyter_workspace/Ch13/%EB%AA%A8%EB%8D%B8%EB%A7%81.ipynb#W0sZmlsZQ%3D%3D?line=44'>45</a>\u001b[0m     pickle\u001b[39m.\u001b[39mdump(tfidf, f)\n\u001b[0;32m     <a href='vscode-notebook-cell:/c%3A/dev/jupyter_workspace/Ch13/%EB%AA%A8%EB%8D%B8%EB%A7%81.ipynb#W0sZmlsZQ%3D%3D?line=46'>47</a>\u001b[0m \u001b[39m#모델을 파일로부터 읽어오기\u001b[39;00m\n\u001b[1;32m---> <a href='vscode-notebook-cell:/c%3A/dev/jupyter_workspace/Ch13/%EB%AA%A8%EB%8D%B8%EB%A7%81.ipynb#W0sZmlsZQ%3D%3D?line=47'>48</a>\u001b[0m \u001b[39mwith\u001b[39;00m \u001b[39mopen\u001b[39m(file\u001b[39m=\u001b[39m\u001b[39m'\u001b[39m\u001b[39m.리뷰모델.pickle\u001b[39m\u001b[39m'\u001b[39m, mode\u001b[39m=\u001b[39m\u001b[39m'\u001b[39m\u001b[39mrb\u001b[39m\u001b[39m'\u001b[39m) \u001b[39mas\u001b[39;00m f:\n\u001b[0;32m     <a href='vscode-notebook-cell:/c%3A/dev/jupyter_workspace/Ch13/%EB%AA%A8%EB%8D%B8%EB%A7%81.ipynb#W0sZmlsZQ%3D%3D?line=48'>49</a>\u001b[0m     lr\u001b[39m=\u001b[39mpickle\u001b[39m.\u001b[39mload(f)\n\u001b[0;32m     <a href='vscode-notebook-cell:/c%3A/dev/jupyter_workspace/Ch13/%EB%AA%A8%EB%8D%B8%EB%A7%81.ipynb#W0sZmlsZQ%3D%3D?line=50'>51</a>\u001b[0m \u001b[39m#아래는 읽기전에 해당하는 토큰화 시키는 함수 있어야함\u001b[39;00m\n",
      "File \u001b[1;32m~\\anaconda3\\Lib\\site-packages\\IPython\\core\\interactiveshell.py:286\u001b[0m, in \u001b[0;36m_modified_open\u001b[1;34m(file, *args, **kwargs)\u001b[0m\n\u001b[0;32m    279\u001b[0m \u001b[39mif\u001b[39;00m file \u001b[39min\u001b[39;00m {\u001b[39m0\u001b[39m, \u001b[39m1\u001b[39m, \u001b[39m2\u001b[39m}:\n\u001b[0;32m    280\u001b[0m     \u001b[39mraise\u001b[39;00m \u001b[39mValueError\u001b[39;00m(\n\u001b[0;32m    281\u001b[0m         \u001b[39mf\u001b[39m\u001b[39m\"\u001b[39m\u001b[39mIPython won\u001b[39m\u001b[39m'\u001b[39m\u001b[39mt let you open fd=\u001b[39m\u001b[39m{\u001b[39;00mfile\u001b[39m}\u001b[39;00m\u001b[39m by default \u001b[39m\u001b[39m\"\u001b[39m\n\u001b[0;32m    282\u001b[0m         \u001b[39m\"\u001b[39m\u001b[39mas it is likely to crash IPython. If you know what you are doing, \u001b[39m\u001b[39m\"\u001b[39m\n\u001b[0;32m    283\u001b[0m         \u001b[39m\"\u001b[39m\u001b[39myou can use builtins\u001b[39m\u001b[39m'\u001b[39m\u001b[39m open.\u001b[39m\u001b[39m\"\u001b[39m\n\u001b[0;32m    284\u001b[0m     )\n\u001b[1;32m--> 286\u001b[0m \u001b[39mreturn\u001b[39;00m io_open(file, \u001b[39m*\u001b[39margs, \u001b[39m*\u001b[39m\u001b[39m*\u001b[39mkwargs)\n",
      "\u001b[1;31mFileNotFoundError\u001b[0m: [Errno 2] No such file or directory: '.리뷰모델.pickle'"
     ]
    }
   ],
   "source": [
    "#전처리된 데이터로 \n",
    "from konlpy.tag import Okt\n",
    "import pandas as pd\n",
    "\n",
    "\n",
    "mv_df = pd.read_csv('./정제된리뷰데이터.csv')\n",
    "okt = Okt()\n",
    "\n",
    "#함수정의(문자를 넣어주면 형태소로 분리해서 리스트로 돌려주는 함수)\n",
    "def okt_tokenizer(text):\n",
    "    return okt.morphs(text)\n",
    "\n",
    "#DTM(문서 단어 행렬) 구성\n",
    "from sklearn.feature_extraction.text import TfidfVectorizer\n",
    "\n",
    "#tokenizer=토큰화시킬 함수명, \n",
    "#ngram_range=토큰의 단어크기(여기에서는 1~2개 단어)\n",
    "#min_df=3 토큰이 문서에 출현하는 최소 빈도(여기서는 3개)이상인 것만 사용\n",
    "#max_df=0.9 토큰이 문서에 출현하는 최대 빈도(여기서는 90%)이하인 것만 사용\n",
    "tfidf=TfidfVectorizer(tokenizer=okt_tokenizer, ngram_range=(1,2),min_df=3, max_df=0.9)\n",
    "\n",
    "\n",
    "tfidf.fit(mv_df['document']) #변환할 데이터 넣어주고 재부설정값 적용\n",
    "mv_tfidf = tfidf.transform(mv_df['document'])    #벡터변환\n",
    "\n",
    "print('시간이 더럽게 오래걸림')\n",
    "\n",
    "#문서단어행렬준비가 완료되면(TF-IDF기준)\n",
    "\n",
    "from sklearn.linear_model import LogisticRegression\n",
    "\n",
    "#로지스틱회귀용 모델 생성\n",
    "lr=LogisticRegression(solver='liblinear')\n",
    "\n",
    "#로지스틱 회귀 모델 훈련 -> 모델완성\n",
    "lr.fit(mv_tfidf,mv_df['label'])\n"
   ]
  },
  {
   "cell_type": "code",
   "execution_count": 6,
   "metadata": {},
   "outputs": [],
   "source": [
    "\n",
    "#lr 모델 저장\n",
    "import pickle\n",
    "\n",
    "with open(file='리뷰모델.pickle', mode='wb') as f:\n",
    "    pickle.dump(lr, f)\n",
    "\n",
    "with open(file='review_tfidf.pickle', mode='wb') as f:\n",
    "    pickle.dump(tfidf, f)\n",
    "\n",
    "#모델을 파일로부터 읽어오기\n",
    "with open(file='리뷰모델.pickle', mode='rb') as f:\n",
    "    lr=pickle.load(f)\n",
    "    \n",
    "#아래는 읽기전에 해당하는 토큰화 시키는 함수 있어야함\n",
    "with open(file='review_tfidf.pickle', mode='rb') as f:\n",
    "    tfidf=pickle.load(f)\n"
   ]
  },
  {
   "cell_type": "code",
   "execution_count": 14,
   "metadata": {},
   "outputs": [
    {
     "name": "stdout",
     "output_type": "stream",
     "text": [
      "[]\n",
      "['']\n",
      "예측값: [0]\n",
      "부정적인 글을 쓰셨군요\n"
     ]
    }
   ],
   "source": [
    "import re\n",
    "\n",
    "    #테스트\n",
    "st=input('영화 감성평을 입력해주세요:')\n",
    "st=re.compile(r'[ㄱ-ㅣ가-힣]+').findall(st)\n",
    "print(st)\n",
    "st=[' '.join(st)]\n",
    "print(st)\n",
    "str_tfidf=tfidf.transform(st)\n",
    "\n",
    "st=lr.predict(str_tfidf)\n",
    "print(\"예측값:\",st)\n",
    "if(st==0):\n",
    "    print(\"부정적인 글을 쓰셨군요\")\n",
    "else:\n",
    "    print(\"긍정적인 글을 쓰셨군요\")   "
   ]
  }
 ],
 "metadata": {
  "kernelspec": {
   "display_name": "Python 3 (ipykernel)",
   "language": "python",
   "name": "python3"
  },
  "language_info": {
   "codemirror_mode": {
    "name": "ipython",
    "version": 3
   },
   "file_extension": ".py",
   "mimetype": "text/x-python",
   "name": "python",
   "nbconvert_exporter": "python",
   "pygments_lexer": "ipython3",
   "version": "3.11.5"
  }
 },
 "nbformat": 4,
 "nbformat_minor": 2
}
