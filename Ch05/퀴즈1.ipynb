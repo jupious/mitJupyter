{
 "cells": [
  {
   "cell_type": "code",
   "execution_count": 36,
   "metadata": {},
   "outputs": [
    {
     "name": "stdout",
     "output_type": "stream",
     "text": [
      "305천국 가게오픈\n",
      "김밥, 라면\n",
      "김밥, 라면\n",
      "주문금액은 7500 원 입니다.끝\n"
     ]
    },
    {
     "ename": "KeyboardInterrupt",
     "evalue": "Interrupted by user",
     "output_type": "error",
     "traceback": [
      "\u001b[1;31m---------------------------------------------------------------------------\u001b[0m",
      "\u001b[1;31mKeyboardInterrupt\u001b[0m                         Traceback (most recent call last)",
      "\u001b[1;32mc:\\Users\\DongGyu\\파이썬작업\\퀴즈1.ipynb 셀 1\u001b[0m line \u001b[0;36m1\n\u001b[0;32m     <a href='vscode-notebook-cell:/c%3A/Users/DongGyu/%ED%8C%8C%EC%9D%B4%EC%8D%AC%EC%9E%91%EC%97%85/%ED%80%B4%EC%A6%881.ipynb#W2sZmlsZQ%3D%3D?line=15'>16</a>\u001b[0m manage \u001b[39m=\u001b[39m MenuManage()\n\u001b[0;32m     <a href='vscode-notebook-cell:/c%3A/Users/DongGyu/%ED%8C%8C%EC%9D%B4%EC%8D%AC%EC%9E%91%EC%97%85/%ED%80%B4%EC%A6%881.ipynb#W2sZmlsZQ%3D%3D?line=16'>17</a>\u001b[0m \u001b[39mwhile\u001b[39;00m \u001b[39m1\u001b[39m:\n\u001b[1;32m---> <a href='vscode-notebook-cell:/c%3A/Users/DongGyu/%ED%8C%8C%EC%9D%B4%EC%8D%AC%EC%9E%91%EC%97%85/%ED%80%B4%EC%A6%881.ipynb#W2sZmlsZQ%3D%3D?line=17'>18</a>\u001b[0m     select \u001b[39m=\u001b[39m \u001b[39minput\u001b[39m(\u001b[39m\"\u001b[39m\u001b[39m메뉴선택\u001b[39m\u001b[39m\\n\u001b[39;00m\u001b[39m1. 메뉴입력\u001b[39m\u001b[39m\\n\u001b[39;00m\u001b[39m2. 메뉴확인\u001b[39m\u001b[39m\\n\u001b[39;00m\u001b[39m3. 주문\u001b[39m\u001b[39m\\n\u001b[39;00m\u001b[39m원하는 메뉴를 입력해주세요:\u001b[39m\u001b[39m\"\u001b[39m)\n\u001b[0;32m     <a href='vscode-notebook-cell:/c%3A/Users/DongGyu/%ED%8C%8C%EC%9D%B4%EC%8D%AC%EC%9E%91%EC%97%85/%ED%80%B4%EC%A6%881.ipynb#W2sZmlsZQ%3D%3D?line=18'>19</a>\u001b[0m     \u001b[39mif\u001b[39;00m select \u001b[39m==\u001b[39m \u001b[39m'\u001b[39m\u001b[39m1\u001b[39m\u001b[39m'\u001b[39m :\n\u001b[0;32m     <a href='vscode-notebook-cell:/c%3A/Users/DongGyu/%ED%8C%8C%EC%9D%B4%EC%8D%AC%EC%9E%91%EC%97%85/%ED%80%B4%EC%A6%881.ipynb#W2sZmlsZQ%3D%3D?line=19'>20</a>\u001b[0m         \u001b[39mwhile\u001b[39;00m \u001b[39m1\u001b[39m:\n",
      "File \u001b[1;32m~\\anaconda3\\Lib\\site-packages\\ipykernel\\kernelbase.py:1202\u001b[0m, in \u001b[0;36mKernel.raw_input\u001b[1;34m(self, prompt)\u001b[0m\n\u001b[0;32m   1200\u001b[0m     msg \u001b[39m=\u001b[39m \u001b[39m\"\u001b[39m\u001b[39mraw_input was called, but this frontend does not support input requests.\u001b[39m\u001b[39m\"\u001b[39m\n\u001b[0;32m   1201\u001b[0m     \u001b[39mraise\u001b[39;00m StdinNotImplementedError(msg)\n\u001b[1;32m-> 1202\u001b[0m \u001b[39mreturn\u001b[39;00m \u001b[39mself\u001b[39m\u001b[39m.\u001b[39m_input_request(\n\u001b[0;32m   1203\u001b[0m     \u001b[39mstr\u001b[39m(prompt),\n\u001b[0;32m   1204\u001b[0m     \u001b[39mself\u001b[39m\u001b[39m.\u001b[39m_parent_ident[\u001b[39m\"\u001b[39m\u001b[39mshell\u001b[39m\u001b[39m\"\u001b[39m],\n\u001b[0;32m   1205\u001b[0m     \u001b[39mself\u001b[39m\u001b[39m.\u001b[39mget_parent(\u001b[39m\"\u001b[39m\u001b[39mshell\u001b[39m\u001b[39m\"\u001b[39m),\n\u001b[0;32m   1206\u001b[0m     password\u001b[39m=\u001b[39m\u001b[39mFalse\u001b[39;00m,\n\u001b[0;32m   1207\u001b[0m )\n",
      "File \u001b[1;32m~\\anaconda3\\Lib\\site-packages\\ipykernel\\kernelbase.py:1245\u001b[0m, in \u001b[0;36mKernel._input_request\u001b[1;34m(self, prompt, ident, parent, password)\u001b[0m\n\u001b[0;32m   1242\u001b[0m \u001b[39mexcept\u001b[39;00m \u001b[39mKeyboardInterrupt\u001b[39;00m:\n\u001b[0;32m   1243\u001b[0m     \u001b[39m# re-raise KeyboardInterrupt, to truncate traceback\u001b[39;00m\n\u001b[0;32m   1244\u001b[0m     msg \u001b[39m=\u001b[39m \u001b[39m\"\u001b[39m\u001b[39mInterrupted by user\u001b[39m\u001b[39m\"\u001b[39m\n\u001b[1;32m-> 1245\u001b[0m     \u001b[39mraise\u001b[39;00m \u001b[39mKeyboardInterrupt\u001b[39;00m(msg) \u001b[39mfrom\u001b[39;00m \u001b[39mNone\u001b[39;00m\n\u001b[0;32m   1246\u001b[0m \u001b[39mexcept\u001b[39;00m \u001b[39mException\u001b[39;00m:\n\u001b[0;32m   1247\u001b[0m     \u001b[39mself\u001b[39m\u001b[39m.\u001b[39mlog\u001b[39m.\u001b[39mwarning(\u001b[39m\"\u001b[39m\u001b[39mInvalid Message:\u001b[39m\u001b[39m\"\u001b[39m, exc_info\u001b[39m=\u001b[39m\u001b[39mTrue\u001b[39;00m)\n",
      "\u001b[1;31mKeyboardInterrupt\u001b[0m: Interrupted by user"
     ]
    }
   ],
   "source": [
    "class MenuManage:\n",
    "    def __init__(self):\n",
    "        self.menu_dict = {}\n",
    "    def add_menu(self, name, price):\n",
    "        self.menu_dict[name] = price\n",
    "    def order(self, menus):\n",
    "        allprice = 0\n",
    "        for m in menus:\n",
    "            allprice += self.menu_dict[m]\n",
    "        print('주문금액은',allprice,'원 입니다.끝')\n",
    "    def __str__(self):\n",
    "        return \", \".join(self.menu_dict)\n",
    "    \n",
    "\n",
    "print(\"305천국 가게오픈\")\n",
    "manage = MenuManage()\n",
    "while 1:\n",
    "    select = input(\"메뉴선택\\n1. 메뉴입력\\n2. 메뉴확인\\n3. 주문\\n원하는 메뉴를 입력해주세요:\")\n",
    "    if select == '1' :\n",
    "        while 1:\n",
    "            name = input(\"메뉴를 입력해 주세요(종료는 q):\")\n",
    "            if name == 'q':\n",
    "                break\n",
    "            price = input(\"가격을 입력해 주세요:\")\n",
    "            manage.add_menu(name, int(price))\n",
    "    elif select == '2':\n",
    "        print(manage)\n",
    "    elif select == '3':\n",
    "        menus = input(\"(원하는 주문을 ,로 구분해서 넣어주세요)\")\n",
    "        manage.order(menus.split(\",\"))\n",
    "\n"
   ]
  },
  {
   "cell_type": "code",
   "execution_count": 13,
   "metadata": {},
   "outputs": [
    {
     "name": "stdout",
     "output_type": "stream",
     "text": [
      "305천국 가게오픈\n",
      "김밥\n",
      "라면\n",
      "q\n",
      "김밥, 라면\n",
      "주문금액은 3000 원 입니다.끝\n",
      "메뉴에 없는 번호입니다.\n",
      "메뉴에 없는 번호입니다.\n"
     ]
    },
    {
     "ename": "KeyboardInterrupt",
     "evalue": "Interrupted by user",
     "output_type": "error",
     "traceback": [
      "\u001b[1;31m---------------------------------------------------------------------------\u001b[0m",
      "\u001b[1;31mKeyboardInterrupt\u001b[0m                         Traceback (most recent call last)",
      "\u001b[1;32mc:\\Users\\DongGyu\\파이썬작업\\퀴즈1.ipynb 셀 2\u001b[0m line \u001b[0;36m4\n\u001b[0;32m      <a href='vscode-notebook-cell:/c%3A/Users/DongGyu/%ED%8C%8C%EC%9D%B4%EC%8D%AC%EC%9E%91%EC%97%85/%ED%80%B4%EC%A6%881.ipynb#X10sZmlsZQ%3D%3D?line=1'>2</a>\u001b[0m menu_dict \u001b[39m=\u001b[39m {}\n\u001b[0;32m      <a href='vscode-notebook-cell:/c%3A/Users/DongGyu/%ED%8C%8C%EC%9D%B4%EC%8D%AC%EC%9E%91%EC%97%85/%ED%80%B4%EC%A6%881.ipynb#X10sZmlsZQ%3D%3D?line=2'>3</a>\u001b[0m \u001b[39mwhile\u001b[39;00m \u001b[39m1\u001b[39m:\n\u001b[1;32m----> <a href='vscode-notebook-cell:/c%3A/Users/DongGyu/%ED%8C%8C%EC%9D%B4%EC%8D%AC%EC%9E%91%EC%97%85/%ED%80%B4%EC%A6%881.ipynb#X10sZmlsZQ%3D%3D?line=3'>4</a>\u001b[0m     select \u001b[39m=\u001b[39m \u001b[39minput\u001b[39m(\u001b[39m\"\u001b[39m\u001b[39m메뉴선택\u001b[39m\u001b[39m\\n\u001b[39;00m\u001b[39m1. 메뉴입력\u001b[39m\u001b[39m\\n\u001b[39;00m\u001b[39m2. 메뉴확인\u001b[39m\u001b[39m\\n\u001b[39;00m\u001b[39m3. 주문\u001b[39m\u001b[39m\\n\u001b[39;00m\u001b[39m원하는 메뉴를 입력해주세요:\u001b[39m\u001b[39m\"\u001b[39m)\n\u001b[0;32m      <a href='vscode-notebook-cell:/c%3A/Users/DongGyu/%ED%8C%8C%EC%9D%B4%EC%8D%AC%EC%9E%91%EC%97%85/%ED%80%B4%EC%A6%881.ipynb#X10sZmlsZQ%3D%3D?line=4'>5</a>\u001b[0m     \u001b[39mif\u001b[39;00m select \u001b[39m==\u001b[39m \u001b[39m'\u001b[39m\u001b[39m1\u001b[39m\u001b[39m'\u001b[39m :\n\u001b[0;32m      <a href='vscode-notebook-cell:/c%3A/Users/DongGyu/%ED%8C%8C%EC%9D%B4%EC%8D%AC%EC%9E%91%EC%97%85/%ED%80%B4%EC%A6%881.ipynb#X10sZmlsZQ%3D%3D?line=5'>6</a>\u001b[0m         \u001b[39mwhile\u001b[39;00m \u001b[39m1\u001b[39m:\n",
      "File \u001b[1;32m~\\anaconda3\\Lib\\site-packages\\ipykernel\\kernelbase.py:1202\u001b[0m, in \u001b[0;36mKernel.raw_input\u001b[1;34m(self, prompt)\u001b[0m\n\u001b[0;32m   1200\u001b[0m     msg \u001b[39m=\u001b[39m \u001b[39m\"\u001b[39m\u001b[39mraw_input was called, but this frontend does not support input requests.\u001b[39m\u001b[39m\"\u001b[39m\n\u001b[0;32m   1201\u001b[0m     \u001b[39mraise\u001b[39;00m StdinNotImplementedError(msg)\n\u001b[1;32m-> 1202\u001b[0m \u001b[39mreturn\u001b[39;00m \u001b[39mself\u001b[39m\u001b[39m.\u001b[39m_input_request(\n\u001b[0;32m   1203\u001b[0m     \u001b[39mstr\u001b[39m(prompt),\n\u001b[0;32m   1204\u001b[0m     \u001b[39mself\u001b[39m\u001b[39m.\u001b[39m_parent_ident[\u001b[39m\"\u001b[39m\u001b[39mshell\u001b[39m\u001b[39m\"\u001b[39m],\n\u001b[0;32m   1205\u001b[0m     \u001b[39mself\u001b[39m\u001b[39m.\u001b[39mget_parent(\u001b[39m\"\u001b[39m\u001b[39mshell\u001b[39m\u001b[39m\"\u001b[39m),\n\u001b[0;32m   1206\u001b[0m     password\u001b[39m=\u001b[39m\u001b[39mFalse\u001b[39;00m,\n\u001b[0;32m   1207\u001b[0m )\n",
      "File \u001b[1;32m~\\anaconda3\\Lib\\site-packages\\ipykernel\\kernelbase.py:1245\u001b[0m, in \u001b[0;36mKernel._input_request\u001b[1;34m(self, prompt, ident, parent, password)\u001b[0m\n\u001b[0;32m   1242\u001b[0m \u001b[39mexcept\u001b[39;00m \u001b[39mKeyboardInterrupt\u001b[39;00m:\n\u001b[0;32m   1243\u001b[0m     \u001b[39m# re-raise KeyboardInterrupt, to truncate traceback\u001b[39;00m\n\u001b[0;32m   1244\u001b[0m     msg \u001b[39m=\u001b[39m \u001b[39m\"\u001b[39m\u001b[39mInterrupted by user\u001b[39m\u001b[39m\"\u001b[39m\n\u001b[1;32m-> 1245\u001b[0m     \u001b[39mraise\u001b[39;00m \u001b[39mKeyboardInterrupt\u001b[39;00m(msg) \u001b[39mfrom\u001b[39;00m \u001b[39mNone\u001b[39;00m\n\u001b[0;32m   1246\u001b[0m \u001b[39mexcept\u001b[39;00m \u001b[39mException\u001b[39;00m:\n\u001b[0;32m   1247\u001b[0m     \u001b[39mself\u001b[39m\u001b[39m.\u001b[39mlog\u001b[39m.\u001b[39mwarning(\u001b[39m\"\u001b[39m\u001b[39mInvalid Message:\u001b[39m\u001b[39m\"\u001b[39m, exc_info\u001b[39m=\u001b[39m\u001b[39mTrue\u001b[39;00m)\n",
      "\u001b[1;31mKeyboardInterrupt\u001b[0m: Interrupted by user"
     ]
    }
   ],
   "source": [
    "\n",
    "print(\"305천국 가게오픈\")\n",
    "menu_dict = {}\n",
    "while 1:\n",
    "    select = input(\"메뉴선택\\n1. 메뉴입력\\n2. 메뉴확인\\n3. 주문\\n원하는 메뉴를 입력해주세요:\")\n",
    "    if select == '1' :\n",
    "        while 1:\n",
    "            name = input(\"메뉴를 입력해 주세요(종료는 q):\")\n",
    "            name = name.strip()\n",
    "            if name == 'q':\n",
    "                break\n",
    "            while 1:\n",
    "                price = input(\"가격을 입력해 주세요:\")\n",
    "                try:\n",
    "                    price = int(price)\n",
    "                except:\n",
    "                    print(\"가격은 숫자만 입력해주세요\")\n",
    "                else:\n",
    "                    menu_dict[name] = price\n",
    "                    break\n",
    "    elif select == '2':\n",
    "        print(\", \".join(menu_dict))\n",
    "    elif select == '3':\n",
    "        menus = input(\"(원하는 주문을 ,로 구분해서 넣어주세요)\")\n",
    "        error = False\n",
    "        allprice = 0\n",
    "        for m in menus.split(\",\"):\n",
    "            try:\n",
    "                allprice += menu_dict[m.strip()]\n",
    "            except:\n",
    "                print(\"메뉴에 없는 주문이 있습니다\")\n",
    "                error = True\n",
    "                break\n",
    "        if not error:   \n",
    "            print('주문금액은',allprice,'원 입니다.끝')\n",
    "    else:\n",
    "        print(\"메뉴에 없는 번호입니다.\")"
   ]
  },
  {
   "cell_type": "code",
   "execution_count": 12,
   "metadata": {},
   "outputs": [
    {
     "name": "stdout",
     "output_type": "stream",
     "text": [
      "3 3\n"
     ]
    }
   ],
   "source": [
    "aa = '         3 3   '\n",
    "aa = aa.strip()\n",
    "print(aa)"
   ]
  }
 ],
 "metadata": {
  "kernelspec": {
   "display_name": "Python 3 (ipykernel)",
   "language": "python",
   "name": "python3"
  },
  "language_info": {
   "codemirror_mode": {
    "name": "ipython",
    "version": 3
   },
   "file_extension": ".py",
   "mimetype": "text/x-python",
   "name": "python",
   "nbconvert_exporter": "python",
   "pygments_lexer": "ipython3",
   "version": "3.11.5"
  }
 },
 "nbformat": 4,
 "nbformat_minor": 2
}
