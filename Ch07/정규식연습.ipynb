{
 "cells": [
  {
   "cell_type": "code",
   "execution_count": 1,
   "metadata": {},
   "outputs": [
    {
     "name": "stdout",
     "output_type": "stream",
     "text": [
      "None\n",
      "<re.Match object; span=(10, 15), match='apple'>\n",
      "['apple', 'bpple', ' bple']\n",
      "['eple thon ', ' ', '']\n"
     ]
    }
   ],
   "source": [
    "import re\n",
    "'''\n",
    "정규식 표현법\n",
    "^: 문자열 시작\n",
    "$: 문자열 끝\n",
    ".: 문자 하나 ex) app.e -> apple\n",
    "?: 문자 하나(또는 없어도 됨) ex) app?e -> appe / apple\n",
    "|: or(다자택일) ex) a|bpple -> apple, bpple\n",
    "*: 0번이상 반복 ex) ap*le -> ale, aple, apple, appple ...\n",
    "+: 1번이상 반복 ex) ap+le -> aple, apple, appple ...\n",
    "{n~m}: n~m번 반복 ex) ap{0~2}le -> ale, aple, apple\n",
    "{n}: n번 반복되는것만\n",
    "[]: 문자클래스 -[]사이의 문자중 1가지와 매칭 ex) [abc]pple -> apple, bpple, cpple abpple(X)\n",
    "(): 그룹 - ()사이의 모든 문자와 매칭 ex) (abc)pple -> abcpple\n",
    "\n",
    "문자클래스 특수용도(한글자 매칭)\n",
    "[0-9] : 모든숫자\n",
    "[a-z] : a~z(소문자)\n",
    "[A-Z] : A~Z(대문자)\n",
    "[a-zA-Z] : 모든 알파벳\n",
    "[ㄱ-ㅎㅏ-ㅣ가-힣] : 모든한글\n",
    "\\d: 모든 숫자\n",
    "\\D: 숫자가 아닌것\n",
    "\\w: 모든문자 숫자 밑줄(_)\n",
    "\\W: 문자 숫자 밑줄이 아닌것\n",
    "\\s: 공백(모든공백) 스페이스바,\\t,\\n,\\r(캐리지리턴)\n",
    "\\S: 공백이 아닌것\n",
    "\\b: 단어의 경계, 공백, 탭, 컴마, 대시 등\n",
    "\\B: 단어의 경계가 아닌것\n",
    "\n",
    "re모듈 사용법\n",
    "match(): 문자열의 처음부터 정규식과 매칭되는지 조사\n",
    "search(): 문자열의 전체를 검색해서 정규식과 매칭되는지 조사\n",
    "findall(): 정규식과 매칭되는 모든 문자열을 리스트로 리턴\n",
    "split(): 정규식과 매칭되는 문자열을 기준으로 파싱해서 리스트로 리턴\n",
    "'''\n",
    "\n",
    "#테스트\n",
    "re_match = re.match('..ple','eple thon apple bpple') #처음부터 시작해서 매칭되는지 \n",
    "print(re_match)\n",
    "\n",
    "re_search = re.search('..ple','eple thon apple bpple')      #전체를 검색해서 매칭되는 첫부분\n",
    "print(re_search)\n",
    "\n",
    "re_findall = re.findall('..ple','eple thon apple bpple bple')   #전체를 검색해서 매칭되는 모든부분 리스트로 리턴\n",
    "print(re_findall)\n",
    "\n",
    "re_split = re.split('..ple','eple thon apple bpple')            #전체를 검색해서 매칭되는 부분을 기준으로 잘라서 리스트로 리턴\n",
    "print(re_split)\n"
   ]
  },
  {
   "cell_type": "code",
   "execution_count": 21,
   "metadata": {},
   "outputs": [
    {
     "name": "stdout",
     "output_type": "stream",
     "text": [
      "입력된 문자 Good care caae\n",
      "일치하는 문자열 care\n",
      "일치하는 문자열의 시작인덱스 5\n",
      "일치하는 문자열의 마지막인덱스 + 1 9\n",
      "일치하는 문자열의 시작과 (끝 인덱스 + 1) (5, 9)\n"
     ]
    }
   ],
   "source": [
    "m = re.search('ca.e','Good care caae')\n",
    "print('입력된 문자',m.string)\n",
    "print('일치하는 문자열',m.group())\n",
    "print('일치하는 문자열의 시작인덱스',m.start())\n",
    "print('일치하는 문자열의 마지막인덱스 + 1',m.end())\n",
    "print('일치하는 문자열의 시작과 (끝 인덱스 + 1)',m.span())\n"
   ]
  },
  {
   "cell_type": "code",
   "execution_count": 29,
   "metadata": {},
   "outputs": [
    {
     "name": "stdout",
     "output_type": "stream",
     "text": [
      "2021-03-04\n",
      "2021-03-04\n",
      "2021\n",
      "03\n",
      "04\n"
     ]
    }
   ],
   "source": [
    "#그룹캡쳐 () 0 또는 기본값은 전체 1부터 순서대로\n",
    "m = re.search('(\\d{4})-(\\d\\d)-(\\d\\d)','2021-03-04 2021-11-15')\n",
    "print(m.group())\n",
    "print(m.group(0))\n",
    "print(m.group(1))\n",
    "print(m.group(2))\n",
    "print(m.group(3))"
   ]
  },
  {
   "cell_type": "code",
   "execution_count": 52,
   "metadata": {},
   "outputs": [
    {
     "ename": "AttributeError",
     "evalue": "'NoneType' object has no attribute 'group'",
     "output_type": "error",
     "traceback": [
      "\u001b[1;31m---------------------------------------------------------------------------\u001b[0m",
      "\u001b[1;31mAttributeError\u001b[0m                            Traceback (most recent call last)",
      "\u001b[1;32mc:\\dev\\jupyter_workspace\\정규식연습.ipynb 셀 4\u001b[0m line \u001b[0;36m6\n\u001b[0;32m      <a href='vscode-notebook-cell:/c%3A/dev/jupyter_workspace/%EC%A0%95%EA%B7%9C%EC%8B%9D%EC%97%B0%EC%8A%B5.ipynb#W3sZmlsZQ%3D%3D?line=3'>4</a>\u001b[0m html_tag \u001b[39m=\u001b[39m \u001b[39m'\u001b[39m\u001b[39m<tr href=\u001b[39m\u001b[39m\"\u001b[39m\u001b[39mabcd\u001b[39m\u001b[39m\"\u001b[39m\u001b[39m id=\u001b[39m\u001b[39m\"\u001b[39m\u001b[39mabc123\u001b[39m\u001b[39m\"\u001b[39m\u001b[39m class=\u001b[39m\u001b[39m\"\u001b[39m\u001b[39mddd\u001b[39m\u001b[39m\"\u001b[39m\u001b[39m>hello</tr>\u001b[39m\u001b[39m'\u001b[39m\n\u001b[0;32m      <a href='vscode-notebook-cell:/c%3A/dev/jupyter_workspace/%EC%A0%95%EA%B7%9C%EC%8B%9D%EC%97%B0%EC%8A%B5.ipynb#W3sZmlsZQ%3D%3D?line=4'>5</a>\u001b[0m m \u001b[39m=\u001b[39m re\u001b[39m.\u001b[39msearch(\u001b[39m'\u001b[39m\u001b[39m<tr.*id=\u001b[39m\u001b[39m\"\u001b[39m\u001b[39m(.*)\u001b[39m\u001b[39m\"\u001b[39m\u001b[39m[class.*|.*]>(.*)</tr>\u001b[39m\u001b[39m'\u001b[39m,html_tag)\n\u001b[1;32m----> <a href='vscode-notebook-cell:/c%3A/dev/jupyter_workspace/%EC%A0%95%EA%B7%9C%EC%8B%9D%EC%97%B0%EC%8A%B5.ipynb#W3sZmlsZQ%3D%3D?line=5'>6</a>\u001b[0m \u001b[39mprint\u001b[39m(m\u001b[39m.\u001b[39mgroup(\u001b[39m0\u001b[39m))\n\u001b[0;32m      <a href='vscode-notebook-cell:/c%3A/dev/jupyter_workspace/%EC%A0%95%EA%B7%9C%EC%8B%9D%EC%97%B0%EC%8A%B5.ipynb#W3sZmlsZQ%3D%3D?line=6'>7</a>\u001b[0m \u001b[39mprint\u001b[39m(m\u001b[39m.\u001b[39mgroup(\u001b[39m1\u001b[39m))\n\u001b[0;32m      <a href='vscode-notebook-cell:/c%3A/dev/jupyter_workspace/%EC%A0%95%EA%B7%9C%EC%8B%9D%EC%97%B0%EC%8A%B5.ipynb#W3sZmlsZQ%3D%3D?line=7'>8</a>\u001b[0m \u001b[39mprint\u001b[39m(m\u001b[39m.\u001b[39mgroup(\u001b[39m2\u001b[39m))\n",
      "\u001b[1;31mAttributeError\u001b[0m: 'NoneType' object has no attribute 'group'"
     ]
    }
   ],
   "source": [
    " #tr태그에 id가 있는 요소만 가져오기(추가로 tr 태그 내의 id속성값, tr태그의 text값)\n",
    "#<tr href=\"abcd\" id=\"abc123\" class=\"ddd\">hello</tr>\n",
    "#<tr href=\"abcd\" id=\"abc123\" >hello</tr>\n",
    "html_tag = '<tr href=\"abcd\" id=\"abc123\" class=\"ddd\">hello</tr>'\n",
    "m = re.search('<tr.*id=\"(.*)\" .*>(.*)</tr>',html_tag)\n",
    "print(m.group(0))\n",
    "print(m.group(1))\n",
    "print(m.group(2))"
   ]
  }
 ],
 "metadata": {
  "kernelspec": {
   "display_name": "Python 3 (ipykernel)",
   "language": "python",
   "name": "python3"
  },
  "language_info": {
   "codemirror_mode": {
    "name": "ipython",
    "version": 3
   },
   "file_extension": ".py",
   "mimetype": "text/x-python",
   "name": "python",
   "nbconvert_exporter": "python",
   "pygments_lexer": "ipython3",
   "version": "3.11.5"
  }
 },
 "nbformat": 4,
 "nbformat_minor": 5
}
